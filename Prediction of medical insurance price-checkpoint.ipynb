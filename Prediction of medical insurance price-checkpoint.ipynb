{
 "cells": [
  {
   "cell_type": "code",
   "execution_count": 8,
   "id": "fb1f681e-13cb-47d5-967f-0cf3877cbb53",
   "metadata": {},
   "outputs": [],
   "source": [
    "import pickle\n",
    "import json\n",
    "import numpy as np"
   ]
  },
  {
   "cell_type": "code",
   "execution_count": 2,
   "id": "3740810c-e64a-4ec8-b493-7dcd5d4ad35c",
   "metadata": {},
   "outputs": [],
   "source": [
    "with open(\"Linear_model.pkl\",\"rb\") as file:\n",
    "    model = pickle.load(file)"
   ]
  },
  {
   "cell_type": "code",
   "execution_count": 4,
   "id": "872ac2c8-17dc-428f-9e27-d7714b77ad74",
   "metadata": {},
   "outputs": [],
   "source": [
    "with open(\"project_data.json\",\"r\") as file:\n",
    "    project_data = json.load(file)"
   ]
  },
  {
   "cell_type": "code",
   "execution_count": 44,
   "id": "1afb68c8-144d-4863-a018-81d995f072dd",
   "metadata": {},
   "outputs": [],
   "source": [
    "age = 19\n",
    "gender = \"female\"\n",
    "bmi = 45\n",
    "children = 2\n",
    "smoker = \"yes\"\n",
    "region = \"southeast\"\n",
    "# charges = ?"
   ]
  },
  {
   "cell_type": "code",
   "execution_count": 45,
   "id": "a6345842-bd89-43b5-913c-91992d4af38e",
   "metadata": {},
   "outputs": [
    {
     "data": {
      "text/plain": [
       "['age',\n",
       " 'gender',\n",
       " 'bmi',\n",
       " 'children',\n",
       " 'smoker',\n",
       " 'region_northeast',\n",
       " 'region_northwest',\n",
       " 'region_southeast',\n",
       " 'region_southwest']"
      ]
     },
     "execution_count": 45,
     "metadata": {},
     "output_type": "execute_result"
    }
   ],
   "source": [
    "columns_names = project_data[\"columns\"]\n",
    "columns_names"
   ]
  },
  {
   "cell_type": "code",
   "execution_count": 46,
   "id": "e512c5de-410e-4ffd-9ceb-77abb77ec3ca",
   "metadata": {},
   "outputs": [
    {
     "name": "stdout",
     "output_type": "stream",
     "text": [
      "region_southeast\n"
     ]
    },
    {
     "data": {
      "text/plain": [
       "array([19.,  1., 45.,  2.,  1.,  0.,  0.,  1.,  0.])"
      ]
     },
     "execution_count": 46,
     "metadata": {},
     "output_type": "execute_result"
    }
   ],
   "source": [
    "columns_names = project_data[\"columns\"]\n",
    "array1 = np.array(columns_names)\n",
    "test_array = np.zeros(len(columns_names))\n",
    "test_array[0] = age\n",
    "test_array[1] = project_data[\"gender\"][gender]\n",
    "test_array[2] = bmi\n",
    "test_array[3] = children\n",
    "test_array[4] = project_data[\"smoker\"][smoker]\n",
    "region1 = \"region_\" + region\n",
    "print(region1) # region_southeast\n",
    "index = np.where(array1 == region1)\n",
    "index\n",
    "test_array[index] = 1\n",
    "test_array"
   ]
  },
  {
   "cell_type": "code",
   "execution_count": 50,
   "id": "a0414566-491b-4cf1-8084-2fb6ddd1ee66",
   "metadata": {},
   "outputs": [
    {
     "name": "stdout",
     "output_type": "stream",
     "text": [
      "Final predicted price is 31964.3063244062\n"
     ]
    },
    {
     "name": "stderr",
     "output_type": "stream",
     "text": [
      "C:\\Users\\Admin\\anaconda3\\lib\\site-packages\\sklearn\\base.py:464: UserWarning: X does not have valid feature names, but LinearRegression was fitted with feature names\n",
      "  warnings.warn(\n"
     ]
    }
   ],
   "source": [
    "premium_price = model.predict([test_array])[0]\n",
    "print(\"Final predicted price is\",premium_price)"
   ]
  },
  {
   "cell_type": "code",
   "execution_count": null,
   "id": "1e4c215d-d302-4469-94c6-60e747b9a288",
   "metadata": {},
   "outputs": [],
   "source": []
  }
 ],
 "metadata": {
  "kernelspec": {
   "display_name": "Python 3 (ipykernel)",
   "language": "python",
   "name": "python3"
  },
  "language_info": {
   "codemirror_mode": {
    "name": "ipython",
    "version": 3
   },
   "file_extension": ".py",
   "mimetype": "text/x-python",
   "name": "python",
   "nbconvert_exporter": "python",
   "pygments_lexer": "ipython3",
   "version": "3.9.7"
  }
 },
 "nbformat": 4,
 "nbformat_minor": 5
}
